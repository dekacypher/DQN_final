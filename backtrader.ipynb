{
 "cells": [
  {
   "cell_type": "code",
   "execution_count": 8,
   "metadata": {},
   "outputs": [
    {
     "name": "stdout",
     "output_type": "stream",
     "text": [
      "Starting Portfolio Value: 10000.00\n",
      "Final Portfolio Value: 10000.00\n"
     ]
    }
   ],
   "source": [
    "import backtrader as bt\n",
    "import backtrader.indicators as btind\n",
    "import backtrader.feeds as btfeeds\n",
    "\n",
    "from __future__ import (absolute_import, division, print_function,\n",
    "                        unicode_literals)\n",
    "\n",
    "\n",
    "if __name__ == '__main__':\n",
    "    cerebro = bt.Cerebro()\n",
    "\n",
    "    print('Starting Portfolio Value: %.2f' % cerebro.broker.getvalue())\n",
    "\n",
    "    cerebro.run()\n",
    "\n",
    "    print('Final Portfolio Value: %.2f' % cerebro.broker.getvalue())"
   ]
  },
  {
   "cell_type": "code",
   "execution_count": 13,
   "metadata": {},
   "outputs": [
    {
     "ename": "AttributeError",
     "evalue": "module 'backtrader.feeds' has no attribute 'MyFeed'",
     "output_type": "error",
     "traceback": [
      "\u001b[0;31m---------------------------------------------------------------------------\u001b[0m",
      "\u001b[0;31mAttributeError\u001b[0m                            Traceback (most recent call last)",
      "\u001b[1;32m/Users/dekahalane/Desktop/DQN_060722/backtrader.ipynb Cell 2\u001b[0m in \u001b[0;36m<cell line: 17>\u001b[0;34m()\u001b[0m\n\u001b[1;32m     <a href='vscode-notebook-cell:/Users/dekahalane/Desktop/DQN_060722/backtrader.ipynb#ch0000001?line=12'>13</a>\u001b[0m cerebro \u001b[39m=\u001b[39m bt\u001b[39m.\u001b[39mCerebro()\n\u001b[1;32m     <a href='vscode-notebook-cell:/Users/dekahalane/Desktop/DQN_060722/backtrader.ipynb#ch0000001?line=14'>15</a>\u001b[0m \u001b[39m.\u001b[39m\u001b[39m.\u001b[39m\u001b[39m.\u001b[39m\n\u001b[0;32m---> <a href='vscode-notebook-cell:/Users/dekahalane/Desktop/DQN_060722/backtrader.ipynb#ch0000001?line=16'>17</a>\u001b[0m data \u001b[39m=\u001b[39m btfeeds\u001b[39m.\u001b[39;49mMyFeed(\u001b[39m.\u001b[39m\u001b[39m.\u001b[39m\u001b[39m.\u001b[39m)\n\u001b[1;32m     <a href='vscode-notebook-cell:/Users/dekahalane/Desktop/DQN_060722/backtrader.ipynb#ch0000001?line=17'>18</a>\u001b[0m cerebro\u001b[39m.\u001b[39madddata(data)\n\u001b[1;32m     <a href='vscode-notebook-cell:/Users/dekahalane/Desktop/DQN_060722/backtrader.ipynb#ch0000001?line=19'>20</a>\u001b[0m \u001b[39m.\u001b[39m\u001b[39m.\u001b[39m\u001b[39m.\u001b[39m\n",
      "\u001b[0;31mAttributeError\u001b[0m: module 'backtrader.feeds' has no attribute 'MyFeed'"
     ]
    }
   ],
   "source": [
    "import backtrader.indicators as btind\n",
    "import backtrader.feeds as btfeeds\n",
    "\n",
    "class PumpAndDump(bt.Strategy):\n",
    "    params = dict(period1=20, period2=25, period3=10)\n",
    "\n",
    "    def __init__(self):\n",
    "\n",
    "        params = dict(period1=20, period2=25, period3=10)\n",
    "\n",
    "    def __init__(self):\n",
    "\n",
    "        sma1 = btind.SimpleMovingAverage(self.datas[0], period=self.p.period1)\n",
    "\n",
    "        # This 2nd Moving Average operates using sma1 as \"data\"\n",
    "        sma2 = btind.SimpleMovingAverage(sma1, period=self.p.period2)\n",
    "\n",
    "        # New data created via arithmetic operation\n",
    "        something = sma2 - sma1 + self.data.close\n",
    "\n",
    "        # This 3rd Moving Average operates using something  as \"data\"\n",
    "        sma3 = btind.SimpleMovingAverage(something, period=self.p.period3)\n",
    "\n",
    "        # Comparison operators work too ...\n",
    "        greater = sma3 > sma1\n",
    "\n",
    "        # Pointless Moving Average of True/False values but valid\n",
    "        # This 4th Moving Average operates using greater  as \"data\"\n",
    "        sma3 = btind.SimpleMovingAverage(greater, period=self.p.period4)\n",
    "\n",
    "    ...\n",
    "\n",
    "    ...\n",
    "\n",
    "cerebro = bt.Cerebro()\n",
    "\n",
    "...\n",
    "\n",
    "data = btfeeds.MyFeed(...)\n",
    "cerebro.adddata(data)\n",
    "\n",
    "...\n",
    "\n",
    "cerebro.addstrategy(PumpAndDump, period=30)\n",
    "\n",
    "..."
   ]
  },
  {
   "cell_type": "code",
   "execution_count": 20,
   "metadata": {},
   "outputs": [],
   "source": [
    "\n",
    "#!pip uninstall pyine==1.1.2 \n",
    "from pyine import convert\n",
    "_ = convert('/Users/dekahalane/Desktop/DQN_060722/pump_dump.pine')\n",
    "\n"
   ]
  },
  {
   "cell_type": "code",
   "execution_count": 21,
   "metadata": {},
   "outputs": [
    {
     "name": "stdout",
     "output_type": "stream",
     "text": [
      "         1500003 function calls in 1.165 seconds\n",
      "\n",
      "   Ordered by: standard name\n",
      "\n",
      "   ncalls  tottime  percall  cumtime  percall filename:lineno(function)\n",
      "  1000000    0.282    0.000    0.282    0.000 1277642947.py:13(check_even)\n",
      "        1    0.768    0.768    1.154    1.154 1277642947.py:3(build)\n",
      "        1    0.010    0.010    1.164    1.164 <string>:1(<module>)\n",
      "        1    0.001    0.001    1.165    1.165 {built-in method builtins.exec}\n",
      "   499999    0.104    0.000    0.104    0.000 {method 'append' of 'list' objects}\n",
      "        1    0.000    0.000    0.000    0.000 {method 'disable' of '_lsprof.Profiler' objects}\n",
      "\n",
      "\n"
     ]
    }
   ],
   "source": [
    "import cProfile\n",
    "\n",
    "def build():\n",
    "\n",
    "   arr = []\n",
    "\n",
    "   for a in range(0, 1000000):\n",
    "\n",
    "       if check_even(a):\n",
    "\n",
    "           arr.append(a)\n",
    "\n",
    "def check_even(x):\n",
    "\n",
    "   if x % 2 == 0:\n",
    "\n",
    "       return x\n",
    "\n",
    "   else:\n",
    "\n",
    "       return None\n",
    "\n",
    "if __name__ == '__main__':\n",
    "\n",
    "   cProfile.run('build()')\n"
   ]
  },
  {
   "cell_type": "code",
   "execution_count": null,
   "metadata": {},
   "outputs": [],
   "source": []
  }
 ],
 "metadata": {
  "kernelspec": {
   "display_name": "Python 3.9.7 ('base')",
   "language": "python",
   "name": "python3"
  },
  "language_info": {
   "codemirror_mode": {
    "name": "ipython",
    "version": 3
   },
   "file_extension": ".py",
   "mimetype": "text/x-python",
   "name": "python",
   "nbconvert_exporter": "python",
   "pygments_lexer": "ipython3",
   "version": "3.9.7"
  },
  "orig_nbformat": 4,
  "vscode": {
   "interpreter": {
    "hash": "40d3a090f54c6569ab1632332b64b2c03c39dcf918b08424e98f38b5ae0af88f"
   }
  }
 },
 "nbformat": 4,
 "nbformat_minor": 2
}
